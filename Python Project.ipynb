{
 "cells": [
  {
   "cell_type": "code",
   "execution_count": 110,
   "id": "93d4f3a7-469f-46d5-b52b-da6d66997437",
   "metadata": {
    "tags": []
   },
   "outputs": [],
   "source": [
    "#Import Libraries\n",
    "import requests\n",
    "from bs4 import BeautifulSoup\n",
    "\n",
    "#Specify the URL\n",
    "url = 'https://en.wikipedia.org/wiki/Religion_in_the_Philippines'\n",
    "\n",
    "#Fetch the Web Page\n",
    "page = requests.get(url)\n",
    "    \n",
    "#Parse HTML with BeautifulSoup\n",
    "soup = BeautifulSoup(page.text, 'html')"
   ]
  },
  {
   "cell_type": "code",
   "execution_count": 173,
   "id": "84a2c830-2b31-484a-bf45-c22adeac71e9",
   "metadata": {
    "tags": []
   },
   "outputs": [],
   "source": [
    "#Find the table that contains the data.\n",
    "table = soup.find_all('table')[2]"
   ]
  },
  {
   "cell_type": "code",
   "execution_count": 292,
   "id": "847755cd-af46-47e9-adb3-bc06f6b90df3",
   "metadata": {
    "tags": []
   },
   "outputs": [
    {
     "name": "stdout",
     "output_type": "stream",
     "text": [
      "['Affiliation', 'Number', 'Percentage']\n",
      "['Roman Catholic[a]', '85,645,362', '78.8%']\n",
      "['Islam', '6,981,710', '6.4%']\n",
      "['Iglesia ni Cristo', '2,806,524', '2.6%']\n",
      "['Philippine Independent Church', '1,458,992', '1.4%']\n",
      "['Seventh-day Adventist', '1,441,740', '1.3%']\n",
      "['The Church of Jesus Christ of Latter-day Saints', '853,254', '0.8%']\n",
      "['Bible Baptist Church', '540,364', '0.5%']\n",
      "['United Church of Christ in the Philippines', '470,792', '0.4%']\n",
      "[\"Jehovah's Witnesses\", '457,245', '0.4%']\n",
      "['Church of Christ', '429,921', '0.4%']\n",
      "['Other religious affiliations', '8,954,291', '8.2%']\n",
      "['None', '43,931', '0%']\n",
      "['Not reported', '15,186', '0%']\n",
      "['Total', '108,667,043', '100%']\n",
      "['Source:Philippine Statistics Authority[4]']\n"
     ]
    }
   ],
   "source": [
    "# Initialize a list to store your data\n",
    "data = []\n",
    "# Iterate through each row (<tr>) in the table\n",
    "for row in table.find_all('tr'):\n",
    "    # Initialize a list to store cells of current row\n",
    "    row_data = []\n",
    "    # Iterate through each cell (<td>) in the row\n",
    "    for cell in row.find_all(['td', 'th']):  # include th for table headers\n",
    "        # Append the text content of cell to row_data list\n",
    "        row_data.append(cell.get_text(strip=True))\n",
    "    # Append the row data list to the main data list\n",
    "    data.append(row_data)\n",
    "\n",
    "# Now 'data' contains all the data from the table\n",
    "# You can print it or further process it as needed\n",
    "for row in data:\n",
    "    print(row)"
   ]
  },
  {
   "cell_type": "code",
   "execution_count": 294,
   "id": "582f5922-d74f-42a2-a2d0-f6fc2c10623f",
   "metadata": {
    "tags": []
   },
   "outputs": [
    {
     "name": "stdout",
     "output_type": "stream",
     "text": [
      "   Affiliation                                      Number       Percentage\n",
      "0                                 Roman Catholic[a]   85,645,362  78.8%    \n",
      "1                                             Islam    6,981,710   6.4%    \n",
      "2                                 Iglesia ni Cristo    2,806,524   2.6%    \n",
      "3                     Philippine Independent Church    1,458,992   1.4%    \n",
      "4                             Seventh-day Adventist    1,441,740   1.3%    \n",
      "5   The Church of Jesus Christ of Latter-day Saints      853,254   0.8%    \n",
      "6                              Bible Baptist Church      540,364   0.5%    \n",
      "7        United Church of Christ in the Philippines      470,792   0.4%    \n",
      "8                               Jehovah's Witnesses      457,245   0.4%    \n",
      "9                                  Church of Christ      429,921   0.4%    \n",
      "10                     Other religious affiliations    8,954,291   8.2%    \n",
      "11                                             None       43,931     0%    \n",
      "12                                     Not reported       15,186     0%    \n",
      "13                                            Total  108,667,043   100%    \n",
      "14        Source:Philippine Statistics Authority[4]         None   None    \n"
     ]
    }
   ],
   "source": [
    "# Convert data to a pandas DataFrame\n",
    "import pandas as pd\n",
    "\n",
    "df = pd.DataFrame(data[1:], columns=data[0])  # assuming first row is header\n",
    "print(df)"
   ]
  },
  {
   "cell_type": "code",
   "execution_count": 296,
   "id": "03b56f9b-74bd-48cf-bda6-3f5dcd3352ea",
   "metadata": {
    "tags": []
   },
   "outputs": [
    {
     "name": "stdout",
     "output_type": "stream",
     "text": [
      "   Affiliation                                      Number      Percentage\n",
      "0                                 Roman Catholic[a]  85,645,362  78.8%    \n",
      "1                                             Islam   6,981,710   6.4%    \n",
      "2                                 Iglesia ni Cristo   2,806,524   2.6%    \n",
      "3                     Philippine Independent Church   1,458,992   1.4%    \n",
      "4                             Seventh-day Adventist   1,441,740   1.3%    \n",
      "5   The Church of Jesus Christ of Latter-day Saints     853,254   0.8%    \n",
      "6                              Bible Baptist Church     540,364   0.5%    \n",
      "7        United Church of Christ in the Philippines     470,792   0.4%    \n",
      "8                               Jehovah's Witnesses     457,245   0.4%    \n",
      "9                                  Church of Christ     429,921   0.4%    \n",
      "10                     Other religious affiliations   8,954,291   8.2%    \n",
      "11                                             None      43,931     0%    \n",
      "12                                     Not reported      15,186     0%    \n"
     ]
    }
   ],
   "source": [
    "#CLEAN THE DATA\n",
    "# Filter out non-data rows (assuming 'Total' and 'Source:' are not part of the data)\n",
    "filtered_data = [row for row in data if row[0] != 'Total' and not row[0].startswith('Source:')]\n",
    "\n",
    "# Convert filtered data to a pandas DataFrame\n",
    "df1 = pd.DataFrame(filtered_data[1:], columns=filtered_data[0])  # assuming first row is header\n",
    "# Print the DataFrame to verify\n",
    "print(df1)\n"
   ]
  },
  {
   "cell_type": "code",
   "execution_count": 298,
   "id": "f170bad0-0a84-4993-8807-db32b0de38c8",
   "metadata": {
    "tags": []
   },
   "outputs": [
    {
     "data": {
      "text/html": [
       "<div>\n",
       "<style scoped>\n",
       "    .dataframe tbody tr th:only-of-type {\n",
       "        vertical-align: middle;\n",
       "    }\n",
       "\n",
       "    .dataframe tbody tr th {\n",
       "        vertical-align: top;\n",
       "    }\n",
       "\n",
       "    .dataframe thead th {\n",
       "        text-align: right;\n",
       "    }\n",
       "</style>\n",
       "<table border=\"1\" class=\"dataframe\">\n",
       "  <thead>\n",
       "    <tr style=\"text-align: left;\">\n",
       "      <th></th>\n",
       "      <th>Affiliation</th>\n",
       "      <th>Number</th>\n",
       "      <th>Percentage</th>\n",
       "    </tr>\n",
       "  </thead>\n",
       "  <tbody>\n",
       "    <tr>\n",
       "      <th>0</th>\n",
       "      <td>Roman Catholic[a]</td>\n",
       "      <td>85,645,362</td>\n",
       "      <td>78.8%</td>\n",
       "    </tr>\n",
       "    <tr>\n",
       "      <th>1</th>\n",
       "      <td>Islam</td>\n",
       "      <td>6,981,710</td>\n",
       "      <td>6.4%</td>\n",
       "    </tr>\n",
       "    <tr>\n",
       "      <th>2</th>\n",
       "      <td>Iglesia ni Cristo</td>\n",
       "      <td>2,806,524</td>\n",
       "      <td>2.6%</td>\n",
       "    </tr>\n",
       "    <tr>\n",
       "      <th>3</th>\n",
       "      <td>Philippine Independent Church</td>\n",
       "      <td>1,458,992</td>\n",
       "      <td>1.4%</td>\n",
       "    </tr>\n",
       "    <tr>\n",
       "      <th>4</th>\n",
       "      <td>Seventh-day Adventist</td>\n",
       "      <td>1,441,740</td>\n",
       "      <td>1.3%</td>\n",
       "    </tr>\n",
       "    <tr>\n",
       "      <th>5</th>\n",
       "      <td>The Church of Jesus Christ of Latter-day Saints</td>\n",
       "      <td>853,254</td>\n",
       "      <td>0.8%</td>\n",
       "    </tr>\n",
       "    <tr>\n",
       "      <th>6</th>\n",
       "      <td>Bible Baptist Church</td>\n",
       "      <td>540,364</td>\n",
       "      <td>0.5%</td>\n",
       "    </tr>\n",
       "    <tr>\n",
       "      <th>7</th>\n",
       "      <td>United Church of Christ in the Philippines</td>\n",
       "      <td>470,792</td>\n",
       "      <td>0.4%</td>\n",
       "    </tr>\n",
       "    <tr>\n",
       "      <th>8</th>\n",
       "      <td>Jehovah's Witnesses</td>\n",
       "      <td>457,245</td>\n",
       "      <td>0.4%</td>\n",
       "    </tr>\n",
       "    <tr>\n",
       "      <th>9</th>\n",
       "      <td>Church of Christ</td>\n",
       "      <td>429,921</td>\n",
       "      <td>0.4%</td>\n",
       "    </tr>\n",
       "    <tr>\n",
       "      <th>10</th>\n",
       "      <td>Other religious affiliations</td>\n",
       "      <td>8,954,291</td>\n",
       "      <td>8.2%</td>\n",
       "    </tr>\n",
       "    <tr>\n",
       "      <th>11</th>\n",
       "      <td>None</td>\n",
       "      <td>43,931</td>\n",
       "      <td>0%</td>\n",
       "    </tr>\n",
       "    <tr>\n",
       "      <th>12</th>\n",
       "      <td>Not reported</td>\n",
       "      <td>15,186</td>\n",
       "      <td>0%</td>\n",
       "    </tr>\n",
       "  </tbody>\n",
       "</table>\n",
       "</div>"
      ],
      "text/plain": [
       "   Affiliation                                      Number      Percentage\n",
       "0                                 Roman Catholic[a]  85,645,362  78.8%    \n",
       "1                                             Islam   6,981,710   6.4%    \n",
       "2                                 Iglesia ni Cristo   2,806,524   2.6%    \n",
       "3                     Philippine Independent Church   1,458,992   1.4%    \n",
       "4                             Seventh-day Adventist   1,441,740   1.3%    \n",
       "5   The Church of Jesus Christ of Latter-day Saints     853,254   0.8%    \n",
       "6                              Bible Baptist Church     540,364   0.5%    \n",
       "7        United Church of Christ in the Philippines     470,792   0.4%    \n",
       "8                               Jehovah's Witnesses     457,245   0.4%    \n",
       "9                                  Church of Christ     429,921   0.4%    \n",
       "10                     Other religious affiliations   8,954,291   8.2%    \n",
       "11                                             None      43,931     0%    \n",
       "12                                     Not reported      15,186     0%    "
      ]
     },
     "execution_count": 298,
     "metadata": {},
     "output_type": "execute_result"
    }
   ],
   "source": [
    "df1.head(13)"
   ]
  },
  {
   "cell_type": "code",
   "execution_count": 253,
   "id": "0b635978-fcbd-432e-ba88-3b65a625f3f8",
   "metadata": {
    "tags": []
   },
   "outputs": [
    {
     "name": "stdout",
     "output_type": "stream",
     "text": [
      "Total Number: 110099312\n",
      "Total Percentage: 101.20000000000002%\n"
     ]
    }
   ],
   "source": [
    "# Convert 'Number' column to numeric (remove commas and convert to int or float)\n",
    "df1['Number'] = df1['Number'].str.replace(',', '').astype(int)\n",
    "\n",
    "# Convert 'Percentage' column to numeric (remove % sign and convert to float)\n",
    "df1['Percentage'] = df1['Percentage'].str.replace('%', '').astype(float)\n",
    "\n",
    "# Calculate the total\n",
    "total_number = df1['Number'].sum()\n",
    "total_percentage = df1['Percentage'].sum()\n",
    "\n",
    "# Display the total\n",
    "print(f'Total Number: {total_number}')\n",
    "print(f'Total Percentage: {total_percentage}%')"
   ]
  },
  {
   "cell_type": "code",
   "execution_count": 258,
   "id": "6f8c014c-56ae-4c57-b616-8b86ce379b5e",
   "metadata": {
    "tags": []
   },
   "outputs": [],
   "source": [
    "df2 = df1.set_index('Affiliation')"
   ]
  },
  {
   "cell_type": "code",
   "execution_count": 300,
   "id": "7df56bdc-500b-49ef-9cc5-15afb3e4cce2",
   "metadata": {
    "tags": []
   },
   "outputs": [
    {
     "data": {
      "text/plain": [
       "<Axes: ylabel='Affiliation'>"
      ]
     },
     "execution_count": 300,
     "metadata": {},
     "output_type": "execute_result"
    },
    {
     "data": {
      "image/png": "[encoded data removed]",
      "text/plain": [
       "<Figure size 640x480 with 1 Axes>"
      ]
     },
     "metadata": {},
     "output_type": "display_data"
    }
   ],
   "source": [
    "df2.plot(kind = 'barh')"
   ]
  },
  {
   "cell_type": "code",
   "execution_count": null,
   "id": "c95f8278-ec25-4ce6-954a-88328b1a754a",
   "metadata": {},
   "outputs": [],
   "source": []
  }
 ],
 "metadata": {
  "kernelspec": {
   "display_name": "Python 3 (ipykernel)",
   "language": "python",
   "name": "python3"
  },
  "language_info": {
   "codemirror_mode": {
    "name": "ipython",
    "version": 3
   },
   "file_extension": ".py",
   "mimetype": "text/x-python",
   "name": "python",
   "nbconvert_exporter": "python",
   "pygments_lexer": "ipython3",
   "version": "3.11.7"
  }
 },
 "nbformat": 4,
 "nbformat_minor": 5
}
